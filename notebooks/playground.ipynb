{
 "cells": [
  {
   "cell_type": "code",
   "execution_count": 1,
   "metadata": {},
   "outputs": [],
   "source": [
    "# .envからapi_keyの値を取り出す\n",
    "import os\n",
    "from dotenv import load_dotenv\n",
    "load_dotenv()\n",
    "YOUTUBE_API_KEY = os.getenv(\"YOUTUBE_API_KEY\")"
   ]
  },
  {
   "cell_type": "code",
   "execution_count": 3,
   "metadata": {},
   "outputs": [],
   "source": [
    "from googleapiclient.discovery import build\n",
    "\n",
    "youtube = build('youtube', 'v3', developerKey=YOUTUBE_API_KEY)"
   ]
  },
  {
   "cell_type": "code",
   "execution_count": 4,
   "metadata": {},
   "outputs": [],
   "source": [
    "search_response = youtube.search().list(\n",
    "    part='snippet',\n",
    "    q='ホロライブ',\n",
    "    order='viewCount',\n",
    "    type='video',\n",
    "    # maxResults=50\n",
    ").execute()"
   ]
  },
  {
   "cell_type": "code",
   "execution_count": 5,
   "metadata": {},
   "outputs": [],
   "source": [
    "import requests\n",
    "import json\n",
    "\n",
    "# APIキーを設定します（Google Developers Consoleで取得したキーを使用してください）\n",
    "\n",
    "# YouTube Data APIのエンドポイントURL\n",
    "url = f\"https://www.googleapis.com/youtube/v3/search?key={YOUTUBE_API_KEY}&q=ホロライブ&part=snippet&type=video&maxResults=10\"\n",
    "\n",
    "# APIリクエストを送信し、レスポンスを取得します\n",
    "response = requests.get(url)\n",
    "data = json.loads(response.text)"
   ]
  },
  {
   "cell_type": "code",
   "execution_count": 6,
   "metadata": {},
   "outputs": [
    {
     "name": "stdout",
     "output_type": "stream",
     "text": [
      "【 ソウルキャリバーⅥ 】今夜こそ負けないカオスな戦い･･だにぇ！！！！！！！！【ホロライブ/さくらみこ】: https://www.youtube.com/watch?v=7f6nGt1-pG0\n",
      "【APEX】湊あくあとマッチして登録者数が倍増する個人Vのみーやさん【2023.06.05/ホロライブ切り抜き】: https://www.youtube.com/watch?v=qet8Nskd_Tg\n",
      "【本人登場】狂犬あくあ、ヒカキンさんの赤スパチャで子犬になる【2023.06.05/湊あくあ/ホロライブ切り抜き】: https://www.youtube.com/watch?v=pSV1Iwp0wdM\n",
      "【スーパーマリオブラザーズ】はじめてのマリオでNEWコントローラー！【#ときのそら生放送/ホロライブ/ときのそら】: https://www.youtube.com/watch?v=MudiJAcpWnk\n",
      "【＃生スバル】１時間でとにかく太れ！！！！！！！！！！！！：Fatten up anyway in an hour!【ホロライブ/大空スバル】: https://www.youtube.com/watch?v=OejpEdEfrv8\n",
      "【 ヴァンガード / 開封 】ムシキングコラボのカードがどうしても引きたいねね【 桃鈴ねね / ホロライブ 】: https://www.youtube.com/watch?v=9rEBA73po4A\n",
      "【 安田記念 】上半期のマイル王が決まる…‼宝塚前に的中なるか…⁉⁉もしかしたら途中誰かくるかも？【鷹嶺ルイ/ホロライブ】: https://www.youtube.com/watch?v=Br2zyjHMfYw\n",
      "【名試合】愛と頭脳で闘うカードバトル最強決定戦【#ホロカスタジアム】: https://www.youtube.com/watch?v=qoM_Qb3gfEc\n",
      "【スプラトゥーン3】イベントマッチ！ウルショ祭り開催！【不知火フレア/ホロライブ】: https://www.youtube.com/watch?v=SuAIePYQAxc\n",
      "アイドル / 天音かなた(cover): https://www.youtube.com/watch?v=ZDuoUAAU0ug\n"
     ]
    }
   ],
   "source": [
    "# 結果を表示します\n",
    "for item in data['items']:\n",
    "    video_id = item['id']['videoId']\n",
    "    video_title = item['snippet']['title']\n",
    "    print(f\"{video_title}: https://www.youtube.com/watch?v={video_id}\")\n"
   ]
  },
  {
   "cell_type": "code",
   "execution_count": 34,
   "metadata": {},
   "outputs": [
    {
     "data": {
      "text/plain": [
       "{'error': {'code': 400,\n",
       "  'message': 'API key expired. Please renew the API key.',\n",
       "  'errors': [{'message': 'API key expired. Please renew the API key.',\n",
       "    'domain': 'global',\n",
       "    'reason': 'badRequest'}],\n",
       "  'status': 'INVALID_ARGUMENT',\n",
       "  'details': [{'@type': 'type.googleapis.com/google.rpc.ErrorInfo',\n",
       "    'reason': 'API_KEY_INVALID',\n",
       "    'domain': 'googleapis.com',\n",
       "    'metadata': {'service': 'youtube.googleapis.com'}}]}}"
      ]
     },
     "execution_count": 34,
     "metadata": {},
     "output_type": "execute_result"
    }
   ],
   "source": [
    "data"
   ]
  },
  {
   "cell_type": "code",
   "execution_count": 12,
   "metadata": {},
   "outputs": [
    {
     "data": {
      "text/html": [
       "<div>\n",
       "<style scoped>\n",
       "    .dataframe tbody tr th:only-of-type {\n",
       "        vertical-align: middle;\n",
       "    }\n",
       "\n",
       "    .dataframe tbody tr th {\n",
       "        vertical-align: top;\n",
       "    }\n",
       "\n",
       "    .dataframe thead th {\n",
       "        text-align: right;\n",
       "    }\n",
       "</style>\n",
       "<table border=\"1\" class=\"dataframe\">\n",
       "  <thead>\n",
       "    <tr style=\"text-align: right;\">\n",
       "      <th></th>\n",
       "      <th>name</th>\n",
       "      <th>artist</th>\n",
       "      <th>year</th>\n",
       "      <th>playtime</th>\n",
       "    </tr>\n",
       "  </thead>\n",
       "  <tbody>\n",
       "    <tr>\n",
       "      <th>0</th>\n",
       "      <td>祈りの虹</td>\n",
       "      <td>Duca</td>\n",
       "      <td>2010</td>\n",
       "      <td>300</td>\n",
       "    </tr>\n",
       "    <tr>\n",
       "      <th>1</th>\n",
       "      <td>satirize</td>\n",
       "      <td>宮崎麻芽</td>\n",
       "      <td>1999</td>\n",
       "      <td>250</td>\n",
       "    </tr>\n",
       "  </tbody>\n",
       "</table>\n",
       "</div>"
      ],
      "text/plain": [
       "       name  artist   year   playtime\n",
       "0      祈りの虹    Duca   2010        300\n",
       "1  satirize    宮崎麻芽   1999        250"
      ]
     },
     "execution_count": 12,
     "metadata": {},
     "output_type": "execute_result"
    }
   ],
   "source": [
    "import pandas as pd\n",
    "\n",
    "song_df = pd.read_csv(\"../input_data/song_list_sample.csv\", header=0)\n",
    "song_df.head()"
   ]
  },
  {
   "cell_type": "code",
   "execution_count": 13,
   "metadata": {},
   "outputs": [],
   "source": [
    "'TYxQScNFOTU'\n",
    "def get_video_duration(video_id, youtube_api):\n",
    "    video_response = (\n",
    "        youtube_api.videos()\n",
    "        .list(part=\"contentDetails\", id=video_id)\n",
    "        .execute()\n",
    "    )\n",
    "    return video_response[\"items\"][0][\"contentDetails\"][\"duration\"]"
   ]
  },
  {
   "cell_type": "code",
   "execution_count": 14,
   "metadata": {},
   "outputs": [
    {
     "data": {
      "text/plain": [
       "'PT3M58S'"
      ]
     },
     "execution_count": 14,
     "metadata": {},
     "output_type": "execute_result"
    }
   ],
   "source": [
    "get_video_duration('TYxQScNFOTU', youtube)"
   ]
  },
  {
   "cell_type": "code",
   "execution_count": 15,
   "metadata": {},
   "outputs": [
    {
     "name": "stdout",
     "output_type": "stream",
     "text": [
      "238\n"
     ]
    }
   ],
   "source": [
    "# 'PT3M58S'を秒に変換する\n",
    "import re\n",
    "import datetime\n",
    "\n",
    "def convert_duration(duration):\n",
    "    # PT3M58S -> 3:58 -> 238\n",
    "    pattern = r'PT(\\d+)M(\\d+)S'\n",
    "    match = re.match(pattern, duration)\n",
    "    if match:\n",
    "        minute = int(match.group(1))\n",
    "        second = int(match.group(2))\n",
    "        return minute * 60 + second\n",
    "    else:\n",
    "        return None\n",
    "print(convert_duration('PT3M58S'))"
   ]
  },
  {
   "cell_type": "code",
   "execution_count": null,
   "metadata": {},
   "outputs": [],
   "source": []
  }
 ],
 "metadata": {
  "kernelspec": {
   "display_name": "Python 3",
   "language": "python",
   "name": "python3"
  },
  "language_info": {
   "codemirror_mode": {
    "name": "ipython",
    "version": 3
   },
   "file_extension": ".py",
   "mimetype": "text/x-python",
   "name": "python",
   "nbconvert_exporter": "python",
   "pygments_lexer": "ipython3",
   "version": "3.10.7"
  },
  "orig_nbformat": 4
 },
 "nbformat": 4,
 "nbformat_minor": 2
}
