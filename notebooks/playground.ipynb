{
 "cells": [
  {
   "cell_type": "code",
   "execution_count": 1,
   "metadata": {},
   "outputs": [],
   "source": [
    "# .envからapi_keyの値を取り出す\n",
    "import os\n",
    "from dotenv import load_dotenv\n",
    "load_dotenv()\n",
    "YOUTUBE_API_KEY = os.getenv(\"YOUTUBE_API_KEY\")\n"
   ]
  },
  {
   "cell_type": "code",
   "execution_count": 7,
   "metadata": {},
   "outputs": [
    {
     "name": "stderr",
     "output_type": "stream",
     "text": [
      "usage: ipykernel_launcher.py [--auth_host_name AUTH_HOST_NAME]\n",
      "                             [--noauth_local_webserver]\n",
      "                             [--auth_host_port [AUTH_HOST_PORT ...]]\n",
      "                             [--logging_level {DEBUG,INFO,WARNING,ERROR,CRITICAL}]\n",
      "                             [--query QUERY] [--max-results MAX_RESULTS]\n",
      "                             [--type TYPE]\n",
      "ipykernel_launcher.py: error: unrecognized arguments: --ip=127.0.0.1 --stdin=9003 --control=9001 --hb=9000 --Session.signature_scheme=\"hmac-sha256\" --Session.key=b\"ad975a75-8081-4abe-ac04-96e3deb71249\" --shell=9002 --transport=\"tcp\" --iopub=9004 --f=/Users/ryomanakagawa/Library/Jupyter/runtime/kernel-v2-13177TgL2RPrato6F.json\n"
     ]
    },
    {
     "ename": "SystemExit",
     "evalue": "2",
     "output_type": "error",
     "traceback": [
      "An exception has occurred, use %tb to see the full traceback.\n",
      "\u001b[0;31mSystemExit\u001b[0m\u001b[0;31m:\u001b[0m 2\n"
     ]
    },
    {
     "name": "stderr",
     "output_type": "stream",
     "text": [
      "/Users/ryomanakagawa/.pyenv/versions/3.10.7/lib/python3.10/site-packages/IPython/core/interactiveshell.py:3516: UserWarning: To exit: use 'exit', 'quit', or Ctrl-D.\n",
      "  warn(\"To exit: use 'exit', 'quit', or Ctrl-D.\", stacklevel=1)\n"
     ]
    }
   ],
   "source": [
    "#!/usr/bin/python\n",
    "\n",
    "from apiclient.discovery import build\n",
    "from apiclient.errors import HttpError\n",
    "from oauth2client.tools import argparser\n",
    "\n",
    "import json\n",
    "import urllib\n",
    "\n",
    "\n",
    "# Set DEVELOPER_KEY to the API key value from the APIs & auth > Registered apps\n",
    "# tab of\n",
    "#   https://cloud.google.com/console\n",
    "# Please ensure that you have enabled the YouTube Data API for your project.\n",
    "DEVELOPER_KEY = YOUTUBE_API_KEY\n",
    "YOUTUBE_API_SERVICE_NAME = \"youtube\"\n",
    "YOUTUBE_API_VERSION = \"v3\"\n",
    "FREEBASE_SEARCH_URL = \"https://www.googleapis.com/freebase/v1/search?%s\"\n",
    "\n",
    "def get_topic_id(options):\n",
    "  # Retrieve a list of Freebase topics associated with the provided query term.\n",
    "  freebase_params = dict(query=options.query, key=DEVELOPER_KEY)\n",
    "  freebase_url = FREEBASE_SEARCH_URL % urllib.urlencode(freebase_params)\n",
    "  freebase_response = json.loads(urllib.urlopen(freebase_url).read())\n",
    "\n",
    "  if len(freebase_response[\"result\"]) == 0:\n",
    "    exit(\"No matching terms were found in Freebase.\")\n",
    "\n",
    "  # Display the list of matching Freebase topics.\n",
    "  mids = []\n",
    "  index = 1\n",
    "  print(\"The following topics were found:\")\n",
    "  for result in freebase_response[\"result\"]:\n",
    "    mids.append(result[\"mid\"])\n",
    "    # print \"  %2d. %s (%s)\" % (index, result.get(\"name\", \"Unknown\"),\n",
    "    #   result.get(\"notable\", {}).get(\"name\", \"Unknown\"))\n",
    "    index += 1\n",
    "\n",
    "  # Display a prompt for the user to select a topic and return the topic ID\n",
    "  # of the selected topic.\n",
    "  mid = None\n",
    "  while mid is None:\n",
    "    index = input(\"Enter a topic number to find related YouTube %ss: \" %\n",
    "      options.type)\n",
    "    try:\n",
    "      mid = mids[int(index) - 1]\n",
    "    except ValueError:\n",
    "      pass\n",
    "  return mid\n",
    "\n",
    "\n",
    "def youtube_search(mid, options):\n",
    "  youtube = build(YOUTUBE_API_SERVICE_NAME, YOUTUBE_API_VERSION,\n",
    "  developerKey=DEVELOPER_KEY)\n",
    "\n",
    "  # Call the search.list method to retrieve results associated with the\n",
    "  # specified Freebase topic.\n",
    "  search_response = youtube.search().list(\n",
    "    topicId=mid,\n",
    "    type=options.type,\n",
    "    part=\"id,snippet\",\n",
    "    maxResults=options.max_results\n",
    "  ).execute()\n",
    "\n",
    "  # Print the title and ID of each matching resource.\n",
    "  for search_result in search_response.get(\"items\", []):\n",
    "    if search_result[\"id\"][\"kind\"] == \"youtube#video\":\n",
    "      print(\"%s (%s)\" % (search_result[\"snippet\"][\"title\"],\n",
    "        search_result[\"id\"][\"videoId\"]))\n",
    "    elif search_result[\"id\"][\"kind\"] == \"youtube#channel\":\n",
    "      print(\"%s (%s)\" % (search_result[\"snippet\"][\"title\"],\n",
    "        search_result[\"id\"][\"channelId\"]))\n",
    "    elif search_result[\"id\"][\"kind\"] == \"youtube#playlist\":\n",
    "      print(\"%s (%s)\" % (search_result[\"snippet\"][\"title\"],\n",
    "        search_result[\"id\"][\"playlistId\"]))\n",
    "\n",
    "\n",
    "if __name__ == \"__main__\":\n",
    "  argparser.add_argument(\"--query\", help=\"Freebase search term\", default=\"Google\")\n",
    "  argparser.add_argument(\"--max-results\", help=\"Max YouTube results\",\n",
    "    default=25)\n",
    "  argparser.add_argument(\"--type\",\n",
    "    help=\"YouTube result type: video, playlist, or channel\", default=\"channel\")\n",
    "  args = argparser.parse_args()\n",
    "\n",
    "  mid = get_topic_id(args)\n",
    "  try:\n",
    "    youtube_search(mid, args)\n",
    "  except HttpError as e:\n",
    "    print(\"An HTTP error %d occurred:\\n%s\" % (e.resp.status, e.content))"
   ]
  },
  {
   "cell_type": "code",
   "execution_count": null,
   "metadata": {},
   "outputs": [],
   "source": []
  }
 ],
 "metadata": {
  "kernelspec": {
   "display_name": "Python 3",
   "language": "python",
   "name": "python3"
  },
  "language_info": {
   "codemirror_mode": {
    "name": "ipython",
    "version": 3
   },
   "file_extension": ".py",
   "mimetype": "text/x-python",
   "name": "python",
   "nbconvert_exporter": "python",
   "pygments_lexer": "ipython3",
   "version": "3.10.7"
  },
  "orig_nbformat": 4
 },
 "nbformat": 4,
 "nbformat_minor": 2
}
